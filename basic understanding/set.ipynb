{
 "cells": [
  {
   "cell_type": "code",
   "execution_count": null,
   "metadata": {},
   "outputs": [],
   "source": [
    "s=set()\n",
    "# add() --> used to add element in set\n",
    "for i in range(5):\n",
    "   s.add(i)\n",
    "s   "
   ]
  },
  {
   "cell_type": "code",
   "execution_count": null,
   "metadata": {},
   "outputs": [],
   "source": [
    "# to clear set we can sue clear()\n",
    "s.clear()\n",
    "s"
   ]
  },
  {
   "cell_type": "code",
   "execution_count": null,
   "metadata": {},
   "outputs": [],
   "source": [
    "# to copy set --> copy()\n",
    "for i in range(5):\n",
    "   s.add(i)\n",
    "\n",
    "sc=s.copy()\n",
    "sc"
   ]
  },
  {
   "cell_type": "code",
   "execution_count": null,
   "metadata": {},
   "outputs": [],
   "source": [
    "# difference()-- it returns element which are different\n",
    "s.add(5)\n",
    "s.difference(sc)"
   ]
  },
  {
   "cell_type": "code",
   "execution_count": null,
   "metadata": {},
   "outputs": [],
   "source": [
    "#set1.diffeence_update(set2)  ---> it  remove commen element from set1\n",
    "s={1,2,3}\n",
    "sc={5,4,3}\n",
    "s.difference_update(sc)\n",
    "s"
   ]
  },
  {
   "cell_type": "code",
   "execution_count": null,
   "metadata": {},
   "outputs": [],
   "source": [
    "#discard--- it discard given element from set if present in given set\n",
    "s={i for i in range(5)}\n",
    "s.discard(2)\n",
    "s"
   ]
  },
  {
   "cell_type": "code",
   "execution_count": null,
   "metadata": {},
   "outputs": [],
   "source": [
    "s={1,2,3}\n",
    "sc={5,4,3}\n",
    "print(s.intersection(sc))# it will return commun element , no change in set\n",
    "print(s)\n",
    "#but intersction_update caus change in set\n",
    "s.intersection_update(sc)# it will return commun element , no change in set\n",
    "print(s)"
   ]
  },
  {
   "cell_type": "code",
   "execution_count": null,
   "metadata": {},
   "outputs": [],
   "source": [
    "s1={1,2,3}\n",
    "s2={1,2,3,4}\n",
    "s3={5}\n",
    "# isdisjoint---> reaturn true if intersection set is null\n",
    "#                otherwise it will return false\n",
    "print(s1.isdisjoint(s2))\n",
    "print(s1.isdisjoint(s3))\n",
    "\n",
    "\n",
    "# issubset  abd issuperset\n",
    "print(s1.issubset(s2))\n",
    "print(s2.issuperset(s1))\n"
   ]
  },
  {
   "cell_type": "code",
   "execution_count": null,
   "metadata": {},
   "outputs": [],
   "source": [
    "#union methode\n",
    "print(s1.union(s2))"
   ]
  },
  {
   "cell_type": "code",
   "execution_count": 3,
   "metadata": {},
   "outputs": [
    {
     "name": "stdout",
     "output_type": "stream",
     "text": [
      "[30, 25, 20, 15, 10, 5, 0, 5, 10, 15, 20, 25, 30]\n"
     ]
    }
   ],
   "source": [
    "class Solution:\n",
    "    def __init__(self):\n",
    "        self.list=[]\n",
    "        self.a=None\n",
    "\n",
    "    def pattern(self,N):\n",
    "        N=int(N)\n",
    "        if N<=0:\n",
    "             if N  not in self.list:\n",
    "                 self.list.append(N)\n",
    "             return \n",
    "        else:\n",
    "             self.list.append(N)\n",
    "             self.pattern(N-5)\n",
    "             self.list.append(N)\n",
    "\n",
    "    \n",
    "                \n",
    "\n",
    "s=Solution()\n",
    "s.pattern(30)\n",
    "print(s.list)\n",
    "\n"
   ]
  },
  {
   "cell_type": "code",
   "execution_count": 6,
   "metadata": {},
   "outputs": [
    {
     "name": "stdout",
     "output_type": "stream",
     "text": [
      "********************\n",
      "*********  *********\n",
      "********    ********\n",
      "*******      *******\n",
      "******        ******\n",
      "*****          *****\n",
      "****            ****\n",
      "***              ***\n",
      "**                **\n",
      "*                  *\n",
      "*                  *\n",
      "**                **\n",
      "***              ***\n",
      "****            ****\n",
      "*****          *****\n",
      "******        ******\n",
      "*******      *******\n",
      "********    ********\n",
      "*********  *********\n",
      "********************\n"
     ]
    }
   ],
   "source": [
    "def pattern(n,s=0):\n",
    "    if n==0:\n",
    "      return\n",
    "    print(\"*\"*n,end=\"\")\n",
    "    print(\" \"*s,end=\"\")\n",
    "    print(\"*\"*(n))\n",
    "    pattern(n-1,s+2)\n",
    "    print(\"*\"*n,end=\"\")\n",
    "    print(\" \"*s,end=\"\")\n",
    "    print(\"*\"*n)\n",
    "\n",
    "\n",
    "pattern(10)\n",
    "\n",
    "\n"
   ]
  }
 ],
 "metadata": {
  "kernelspec": {
   "display_name": "Python 3",
   "language": "python",
   "name": "python3"
  },
  "language_info": {
   "codemirror_mode": {
    "name": "ipython",
    "version": 3
   },
   "file_extension": ".py",
   "mimetype": "text/x-python",
   "name": "python",
   "nbconvert_exporter": "python",
   "pygments_lexer": "ipython3",
   "version": "3.12.0"
  }
 },
 "nbformat": 4,
 "nbformat_minor": 2
}
