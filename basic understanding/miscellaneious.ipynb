{
 "cells": [
  {
   "cell_type": "code",
   "execution_count": null,
   "metadata": {},
   "outputs": [
    {
     "name": "stdout",
     "output_type": "stream",
     "text": [
      "{'name': ['Manthan', 'Maharshi', 'Ayush'], 'roll_no': [1, 2, 3], 'maths_marks': [89, 95, 79]}\n"
     ]
    }
   ],
   "source": [
    "my_dict={'name':[\"Manthan\",\"Maharshi\",\"Ayush\"],'roll_no':[1,2,3],'maths_marks':[89,95,79]}\n",
    "print(my_dict)"
   ]
  },
  {
   "cell_type": "code",
   "execution_count": 44,
   "metadata": {},
   "outputs": [
    {
     "data": {
      "text/plain": [
       "['Manthan', 'Maharshi', 'Ayush']"
      ]
     },
     "execution_count": 44,
     "metadata": {},
     "output_type": "execute_result"
    }
   ],
   "source": [
    "my_dict['name']"
   ]
  },
  {
   "cell_type": "code",
   "execution_count": 74,
   "metadata": {},
   "outputs": [
    {
     "name": "stdout",
     "output_type": "stream",
     "text": [
      "['Manthan', 'Maharshi', 'Ayush']\n",
      "[45, 46, 47]\n",
      "[100, 89, 93]\n",
      "[87, 75, 94]\n",
      "name :- ['Manthan', 'Maharshi', 'Ayush']\n",
      "roll_no :- [45, 46, 47]\n",
      "maths_marks :- [100, 89, 93]\n",
      "physics_marks :- [87, 75, 94]\n"
     ]
    }
   ],
   "source": [
    "#if you want to print all value as list\n",
    "for i in my_dict.values():\n",
    "    print(i)\n",
    "#second methode\n",
    "for key,value in my_dict.items():\n",
    "    print(key,':-',value)    "
   ]
  },
  {
   "cell_type": "code",
   "execution_count": 46,
   "metadata": {},
   "outputs": [
    {
     "name": "stdout",
     "output_type": "stream",
     "text": [
      "['Manthan', 'Maharshi', 'Ayush']\n",
      "[1, 2, 3]\n",
      "[89, 95, 79]\n",
      "[87, 75, 94]\n"
     ]
    }
   ],
   "source": [
    "#if you want to add key vales pair \n",
    "my_dict['physics_marks']=[87,75,94]\n",
    "for i in my_dict.values():\n",
    "    print(i)"
   ]
  },
  {
   "cell_type": "code",
   "execution_count": 71,
   "metadata": {},
   "outputs": [
    {
     "name": "stdout",
     "output_type": "stream",
     "text": [
      "[45, 46, 47]\n"
     ]
    },
    {
     "data": {
      "text/plain": [
       "{'name': ['Manthan', 'Maharshi', 'Ayush'],\n",
       " 'roll_no': [45, 46, 47],\n",
       " 'maths_marks': [100, 89, 93],\n",
       " 'physics_marks': [87, 75, 94]}"
      ]
     },
     "execution_count": 71,
     "metadata": {},
     "output_type": "execute_result"
    }
   ],
   "source": [
    "#if you want to change values\n",
    "my_dict['roll_no']=[45,46,47]\n",
    "my_dict['maths_marks']=[100,89,93]\n",
    "print(my_dict['roll_no'])\n",
    "my_dict"
   ]
  },
  {
   "cell_type": "code",
   "execution_count": 75,
   "metadata": {},
   "outputs": [
    {
     "name": "stdout",
     "output_type": "stream",
     "text": [
      "('Manthan', 1, 'reading')\n",
      "('ayush', 2, 'travelling')\n",
      "('Mahrshi', 3, 'cricket')\n",
      "('Rushabh', 4, 'music')\n"
     ]
    }
   ],
   "source": [
    "# birf introduction about zip function\n",
    "list_1=['Manthan','ayush','Mahrshi','Rushabh']\n",
    "list_2=[1,2,3,4]\n",
    "list_3=['reading','travelling','cricket','music']\n",
    "\n",
    "for item in zip(list_1,list_2,list_3): # we can add more than 3 list here\n",
    "    print(item)"
   ]
  },
  {
   "cell_type": "code",
   "execution_count": 82,
   "metadata": {},
   "outputs": [
    {
     "name": "stdout",
     "output_type": "stream",
     "text": [
      "[0, 1, 2, 3, 4, 5, 6, 7, 8, 9]\n"
     ]
    },
    {
     "data": {
      "text/plain": [
       "[(0, 'Manthan'), (1, 'ayush'), (2, 'Mahrshi'), (3, 'Rushabh')]"
      ]
     },
     "execution_count": 82,
     "metadata": {},
     "output_type": "execute_result"
    }
   ],
   "source": [
    "# if u want to creat list or ilterable data type by using range function\n",
    "print(list(range(10)))\n",
    "list(enumerate(list_1))\n",
    "\n"
   ]
  },
  {
   "cell_type": "code",
   "execution_count": 95,
   "metadata": {},
   "outputs": [
    {
     "name": "stdout",
     "output_type": "stream",
     "text": [
      "['H', 'e', 'l', 'l', 'o', ',', ' ', 'h', 'o', 'w', ' ', 'a', 'r', 'e', ' ', 'y', 'o', 'u', '?']\n",
      "[0, 2, 4, 6, 8, 10, 12, 14, 16, 18, 20, 22, 24, 26, 28, 30, 32, 34, 36, 38, 40, 42, 44, 46, 48]\n",
      "[0, 2, 4, 6, 8, 10, 12, 14, 16, 18, 20, 22, 24, 26, 28, 30, 32, 34, 36, 38, 40, 42, 44, 46, 48]\n",
      "['EVEN', 'ODD', 'EVEN', 'ODD', 'EVEN', 'ODD', 'EVEN', 'ODD', 'EVEN', 'ODD', 'EVEN', 'ODD', 'EVEN', 'ODD', 'EVEN', 'ODD', 'EVEN', 'ODD', 'EVEN', 'ODD', 'EVEN', 'ODD', 'EVEN', 'ODD', 'EVEN', 'ODD', 'EVEN', 'ODD', 'EVEN', 'ODD', 'EVEN', 'ODD', 'EVEN', 'ODD', 'EVEN', 'ODD', 'EVEN', 'ODD', 'EVEN', 'ODD', 'EVEN', 'ODD', 'EVEN', 'ODD', 'EVEN', 'ODD', 'EVEN', 'ODD', 'EVEN', 'ODD']\n"
     ]
    }
   ],
   "source": [
    "#create list using for loop\n",
    "my_string=\"Hello, how are you?\"\n",
    "list=[letter for letter in my_string]\n",
    "print(list)\n",
    "list_1=[i for i in range(0,50,2)]\n",
    "#you can also create list_1 as follows,\n",
    "list_2=[i for i in range(0,50) if i%2==0]\n",
    "list_3=[i if i%2==0 else 'ODD' for i in range(0,50) ]\n",
    "print(list_1)\n",
    "print(list_2)\n",
    "print(list_3)"
   ]
  },
  {
   "cell_type": "code",
   "execution_count": 2,
   "metadata": {},
   "outputs": [
    {
     "name": "stdout",
     "output_type": "stream",
     "text": [
      "('Rushabh', 500)\n",
      "Rushabh\n",
      "500\n"
     ]
    }
   ],
   "source": [
    "#make a function that returns name of employee with  his salary who's salary is max\n",
    "\n",
    "def employee_of_month(data):\n",
    "   current_max=0\n",
    "   for name,salary in data:\n",
    "      if salary> current_max:\n",
    "         current_max=salary\n",
    "         employee_name=name\n",
    "      else:\n",
    "         pass   \n",
    "\n",
    "   return (employee_name,current_max)  \n",
    "\n",
    "list=[('Manthan',400),('Mahrshi',420),('Rushabh',500),('Ayush',450),('Het',250)]\n",
    "\n",
    "answer=employee_of_month(list) \n",
    "# we can also store return answer in saperate variable like this\n",
    "a,b=employee_of_month(list)\n",
    "print(answer) \n",
    "print(a)\n",
    "print(b)"
   ]
  },
  {
   "cell_type": "code",
   "execution_count": 8,
   "metadata": {},
   "outputs": [
    {
     "name": "stdout",
     "output_type": "stream",
     "text": [
      "mANTHANIShERE\n"
     ]
    }
   ],
   "source": [
    "def myfunc(string):\n",
    "    new_string=''\n",
    "    for letter in string:\n",
    "        if letter.isupper():\n",
    "            new_string +=letter.lower()\n",
    "        else:\n",
    "            new_string +=letter.upper()\n",
    "    return new_string  \n",
    "    \n",
    "    \n",
    "print(myfunc('ManthanisHere'))    "
   ]
  },
  {
   "cell_type": "code",
   "execution_count": 13,
   "metadata": {},
   "outputs": [
    {
     "name": "stdout",
     "output_type": "stream",
     "text": [
      "9\n"
     ]
    }
   ],
   "source": [
    "#return the sum of the number in list except ignor section start with 6 and extended to the next 9(every 6 \n",
    "# #will be followed by 9)\n",
    "def special_sum(list):\n",
    "    a=list.index(6)\n",
    "    b=list.index(9)\n",
    "    for i in range (a, b +1):\n",
    "         list.pop(a)\n",
    "    print(sum(list))\n",
    "\n",
    "list=[i for i in range(4,10)]\n",
    "special_sum(list)\n"
   ]
  }
 ],
 "metadata": {
  "kernelspec": {
   "display_name": "Python 3",
   "language": "python",
   "name": "python3"
  },
  "language_info": {
   "codemirror_mode": {
    "name": "ipython",
    "version": 3
   },
   "file_extension": ".py",
   "mimetype": "text/x-python",
   "name": "python",
   "nbconvert_exporter": "python",
   "pygments_lexer": "ipython3",
   "version": "3.11.3"
  }
 },
 "nbformat": 4,
 "nbformat_minor": 2
}
