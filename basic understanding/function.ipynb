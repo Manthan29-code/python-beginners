{
 "cells": [
  {
   "cell_type": "code",
   "execution_count": 30,
   "metadata": {},
   "outputs": [
    {
     "name": "stdout",
     "output_type": "stream",
     "text": [
      "[0, 1, 2, 3, 4, 5, 6, 7, 8, 9, 10]\n",
      "[0, 1, 4, 9, 16, 25, 36, 49, 64, 81, 100]\n",
      "[121, 144, 169, 196, 225, 256, 289, 324, 361, 400]\n"
     ]
    }
   ],
   "source": [
    "#about map function\n",
    "#this function will halp you to apply function on all iteames in  ilterable\n",
    "# and  reaturn appropriat reasult\n",
    "#let's try to understand working of this function by example\n",
    "def square(num):\n",
    "    return num**2\n",
    "\n",
    "my_num=[i for i in range(11)]\n",
    "print(my_num)\n",
    "list=[]\n",
    "for i in map(square,my_num):\n",
    "    list.append(i)\n",
    "print(list)\n",
    "\n",
    "#another way to use map function\n",
    "list_1=[i for i in map(square,range(11,21))]\n",
    "print(list_1)\n",
    "\n"
   ]
  },
  {
   "cell_type": "code",
   "execution_count": 32,
   "metadata": {},
   "outputs": [
    {
     "name": "stdout",
     "output_type": "stream",
     "text": [
      "[0, 2, 4, 6, 8, 10, 12, 14, 16, 18]\n"
     ]
    }
   ],
   "source": [
    "#about filter function\n",
    "# argument 1)function name 2)iltrable \n",
    "#this function will reaturn those items from ilterabe for that function has returned true\n",
    "\n",
    "def check_even(num):\n",
    "    return num%2==0\n",
    "\n",
    "list=[i for i in filter(check_even,range(20))]\n",
    "print(list)\n"
   ]
  },
  {
   "cell_type": "code",
   "execution_count": null,
   "metadata": {},
   "outputs": [
    {
     "data": {
      "text/plain": [
       "25"
      ]
     },
     "execution_count": 33,
     "metadata": {},
     "output_type": "execute_result"
    }
   ],
   "source": [
    "#about lambda function\n",
    "#this function helps us to define function in one line for example\n",
    "# we have defined square function using def keyword\n",
    "#let us now define this function using lambda keywoed\n",
    "\n",
    "square=lambda num:num**2\n",
    "print(square(5))\n",
    "\n"
   ]
  },
  {
   "cell_type": "code",
   "execution_count": null,
   "metadata": {},
   "outputs": [
    {
     "name": "stdout",
     "output_type": "stream",
     "text": [
      "[0, 2, 4, 6, 8, 10, 12, 14, 16, 18, 20]\n",
      "[0, 2, 4, 6, 8, 10, 12, 14, 16, 18, 20]\n"
     ]
    }
   ],
   "source": [
    "# now supp0se you want to yse lambda in map function as \n",
    "#well as for filter function then....\n",
    "\n",
    "list_2=[i for i in map(lambda num:num*2,range(11))]\n",
    "print(list_2)\n",
    "list_3=[i for i in filter(lambda num:num%2==0,range(21))]\n",
    "print(list_3)"
   ]
  },
  {
   "cell_type": "code",
   "execution_count": null,
   "metadata": {},
   "outputs": [
    {
     "name": "stdout",
     "output_type": "stream",
     "text": [
      "<class 'function'>\n",
      "<class 'function'>\n",
      "hello i am from hello function\n"
     ]
    }
   ],
   "source": [
    "# What if we assign a function name to variable\n",
    "\n",
    "def hello():\n",
    "    print('hello i am from hello function')\n",
    "\n",
    "\n",
    "world = hello  # it's means that now hello function and world function do same things\n",
    "print(type(hello))\n",
    "print(type(world))\n",
    "\n",
    "del hello\n",
    "world()\n",
    "# here you can see that world function is working even after deleting hellow function"
   ]
  },
  {
   "cell_type": "code",
   "execution_count": null,
   "metadata": {},
   "outputs": [
    {
     "name": "stdout",
     "output_type": "stream",
     "text": [
      "the hello function has been executed\n",
      "<function hello.<locals>.great at 0x000001FCFFA367A0>\n",
      "the hello function has been executed\n",
      "<function hello.<locals>.welcome at 0x000001FCFFBD5BC0>\n",
      "\t this is welcome inside hello\n"
     ]
    }
   ],
   "source": [
    "def hello(name='Manthan'):\n",
    "    print('the hello function has been executed')\n",
    "\n",
    "    def great():\n",
    "        return '\\t Tish is the great func inside hello'\n",
    "    \n",
    "    def welcome():\n",
    "        return \"\\t this is welcome inside hello\"\n",
    "    \n",
    "    if name== 'Manthan':\n",
    "        return great\n",
    "    else:\n",
    "        return welcome\n",
    "        \n",
    "my_newfunct= hello()\n",
    "print(my_newfunct) \n",
    "my_newfunct() \n",
    "my_newfunct= hello('maharshi')\n",
    "print(my_newfunct)  \n",
    "print(my_newfunct() )\n",
    "    "
   ]
  },
  {
   "cell_type": "code",
   "execution_count": 4,
   "metadata": {},
   "outputs": [
    {
     "name": "stdout",
     "output_type": "stream",
     "text": [
      "0\n",
      "3andga3hthat\n",
      "2\n",
      "catandgacaththat\n",
      "3andga3hthat\n"
     ]
    }
   ],
   "source": [
    "s=\"catandgacaththat\"  \n",
    "t=s.find('cat')   # return fiest occurrence of cat\n",
    "print(t)\n",
    "print(s.replace(\"cat\",\"3\"))\n",
    "r=s.replace(\"cat\",\"3\")\n",
    "print(s.count(\"cat\"))\n",
    "\n",
    "print(s)\n",
    "print(r)\n",
    "\n",
    "\n",
    "\n"
   ]
  }
 ],
 "metadata": {
  "kernelspec": {
   "display_name": "Python 3",
   "language": "python",
   "name": "python3"
  },
  "language_info": {
   "codemirror_mode": {
    "name": "ipython",
    "version": 3
   },
   "file_extension": ".py",
   "mimetype": "text/x-python",
   "name": "python",
   "nbconvert_exporter": "python",
   "pygments_lexer": "ipython3",
   "version": "3.12.0"
  }
 },
 "nbformat": 4,
 "nbformat_minor": 2
}
