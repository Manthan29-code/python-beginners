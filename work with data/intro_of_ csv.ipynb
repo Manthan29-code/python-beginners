{
 "cells": [
  {
   "cell_type": "code",
   "execution_count": 4,
   "metadata": {},
   "outputs": [
    {
     "name": "stdout",
     "output_type": "stream",
     "text": [
      "44\n",
      "﻿OrderDate\n"
     ]
    }
   ],
   "source": [
    "import csv\n",
    "#open the file\n",
    "data=open('SampleData.csv',encoding='utf-8')\n",
    "# csv reader\n",
    "csv_data=list(csv.reader(data))\n",
    "print(len(csv_data))\n",
    "#print data from cvs file\n",
    "#for i in csv_data[:20]:\n",
    "#    print(i) \n",
    "print(csv_data[0][0])\n",
    "data.close()\n"
   ]
  },
  {
   "cell_type": "code",
   "execution_count": 1,
   "metadata": {},
   "outputs": [
    {
     "data": {
      "text/plain": [
       "'c:\\\\m PYTHON\\\\work with data'"
      ]
     },
     "execution_count": 1,
     "metadata": {},
     "output_type": "execute_result"
    }
   ],
   "source": []
  }
 ],
 "metadata": {
  "kernelspec": {
   "display_name": "Python 3",
   "language": "python",
   "name": "python3"
  },
  "language_info": {
   "codemirror_mode": {
    "name": "ipython",
    "version": 3
   },
   "file_extension": ".py",
   "mimetype": "text/x-python",
   "name": "python",
   "nbconvert_exporter": "python",
   "pygments_lexer": "ipython3",
   "version": "3.12.0"
  }
 },
 "nbformat": 4,
 "nbformat_minor": 2
}
